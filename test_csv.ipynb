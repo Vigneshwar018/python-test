{
 "cells": [
  {
   "cell_type": "markdown",
   "metadata": {},
   "source": [
    "## importing CSV"
   ]
  },
  {
   "cell_type": "code",
   "execution_count": 1,
   "metadata": {},
   "outputs": [],
   "source": [
    "import numpy as np\n",
    "import pandas as pd\n",
    "import matplotlib.pyplot as plt"
   ]
  },
  {
   "cell_type": "code",
   "execution_count": 2,
   "metadata": {},
   "outputs": [],
   "source": [
    "fl1 = pd.read_csv('gdp_pc.csv')\n",
    "fl2 = pd.read_csv('mlb_salaries_2014.csv')\n",
    "fl3 = pd.read_csv('disease_democ.csv')"
   ]
  },
  {
   "cell_type": "code",
   "execution_count": 3,
   "metadata": {},
   "outputs": [
    {
     "data": {
      "text/html": [
       "<div>\n",
       "<style scoped>\n",
       "    .dataframe tbody tr th:only-of-type {\n",
       "        vertical-align: middle;\n",
       "    }\n",
       "\n",
       "    .dataframe tbody tr th {\n",
       "        vertical-align: top;\n",
       "    }\n",
       "\n",
       "    .dataframe thead th {\n",
       "        text-align: right;\n",
       "    }\n",
       "</style>\n",
       "<table border=\"1\" class=\"dataframe\">\n",
       "  <thead>\n",
       "    <tr style=\"text-align: right;\">\n",
       "      <th></th>\n",
       "      <th>playerID</th>\n",
       "      <th>nameFirst</th>\n",
       "      <th>nameLast</th>\n",
       "      <th>nameFull</th>\n",
       "      <th>teamID</th>\n",
       "      <th>teamName</th>\n",
       "      <th>salary</th>\n",
       "      <th>salary_mil</th>\n",
       "    </tr>\n",
       "  </thead>\n",
       "  <tbody>\n",
       "    <tr>\n",
       "      <th>0</th>\n",
       "      <td>arroybr01</td>\n",
       "      <td>Bronson</td>\n",
       "      <td>Arroyo</td>\n",
       "      <td>Bronson Arroyo</td>\n",
       "      <td>ARI</td>\n",
       "      <td>Arizona Diamondbacks</td>\n",
       "      <td>9500000</td>\n",
       "      <td>9.5000</td>\n",
       "    </tr>\n",
       "    <tr>\n",
       "      <th>1</th>\n",
       "      <td>cahiltr01</td>\n",
       "      <td>Trevor</td>\n",
       "      <td>Cahill</td>\n",
       "      <td>Trevor Cahill</td>\n",
       "      <td>ARI</td>\n",
       "      <td>Arizona Diamondbacks</td>\n",
       "      <td>7700000</td>\n",
       "      <td>7.7000</td>\n",
       "    </tr>\n",
       "    <tr>\n",
       "      <th>2</th>\n",
       "      <td>campato01</td>\n",
       "      <td>Tony</td>\n",
       "      <td>Campana</td>\n",
       "      <td>Tony Campana</td>\n",
       "      <td>ARI</td>\n",
       "      <td>Arizona Diamondbacks</td>\n",
       "      <td>509500</td>\n",
       "      <td>0.5095</td>\n",
       "    </tr>\n",
       "    <tr>\n",
       "      <th>3</th>\n",
       "      <td>chaveer01</td>\n",
       "      <td>Eric</td>\n",
       "      <td>Chavez</td>\n",
       "      <td>Eric Chavez</td>\n",
       "      <td>ARI</td>\n",
       "      <td>Arizona Diamondbacks</td>\n",
       "      <td>3500000</td>\n",
       "      <td>3.5000</td>\n",
       "    </tr>\n",
       "    <tr>\n",
       "      <th>4</th>\n",
       "      <td>collmjo01</td>\n",
       "      <td>Josh</td>\n",
       "      <td>Collmenter</td>\n",
       "      <td>Josh Collmenter</td>\n",
       "      <td>ARI</td>\n",
       "      <td>Arizona Diamondbacks</td>\n",
       "      <td>925000</td>\n",
       "      <td>0.9250</td>\n",
       "    </tr>\n",
       "  </tbody>\n",
       "</table>\n",
       "</div>"
      ],
      "text/plain": [
       "    playerID nameFirst    nameLast         nameFull teamID  \\\n",
       "0  arroybr01   Bronson      Arroyo   Bronson Arroyo    ARI   \n",
       "1  cahiltr01    Trevor      Cahill    Trevor Cahill    ARI   \n",
       "2  campato01      Tony     Campana     Tony Campana    ARI   \n",
       "3  chaveer01      Eric      Chavez      Eric Chavez    ARI   \n",
       "4  collmjo01      Josh  Collmenter  Josh Collmenter    ARI   \n",
       "\n",
       "               teamName   salary  salary_mil  \n",
       "0  Arizona Diamondbacks  9500000      9.5000  \n",
       "1  Arizona Diamondbacks  7700000      7.7000  \n",
       "2  Arizona Diamondbacks   509500      0.5095  \n",
       "3  Arizona Diamondbacks  3500000      3.5000  \n",
       "4  Arizona Diamondbacks   925000      0.9250  "
      ]
     },
     "execution_count": 3,
     "metadata": {},
     "output_type": "execute_result"
    }
   ],
   "source": [
    "fl2.head()"
   ]
  },
  {
   "cell_type": "code",
   "execution_count": 41,
   "metadata": {},
   "outputs": [
    {
     "data": {
      "text/plain": [
       "21589994.28"
      ]
     },
     "execution_count": 41,
     "metadata": {},
     "output_type": "execute_result"
    }
   ],
   "source": [
    "from matplotlib import pyplot as plt\n",
    "\n",
    "\n",
    "fl2_team = fl2.groupby('teamName').sum()\n",
    "# fl2_team.loc['teamName']\n",
    "\n",
    "# a = fl2_team.loc[fl2_team['salary_mil'] > 100,'salary_mil']\n",
    "# a\n",
    "\n",
    "team = [team for team, df in fl2_team.groupby('teamName')]\n",
    "\n",
    "\n",
    "# plt.barh( team, fl2_team['salary'], linewidth = 5)\n",
    "\n",
    "# plt.title('summa time pass')\n",
    "# plt.yticks( fontsize = 10, linespacing = 2)\n",
    "# plt.xlabel('Team')\n",
    "# plt.ylabel('Salary')\n",
    "# plt.grid(True)\n",
    "# # plt.legend()\n",
    "# plt.show()\n",
    "\n",
    "\n",
    "fl2_hiSal = fl2.sort_values(['salary', 'teamID'], ascending=False)\n",
    "fl2_hiSal = fl2_hiSal.head(25)\n",
    "\n",
    "fl2_hiSal['salary'].mean()"
   ]
  },
  {
   "cell_type": "code",
   "execution_count": null,
   "metadata": {},
   "outputs": [],
   "source": []
  },
  {
   "cell_type": "code",
   "execution_count": null,
   "metadata": {
    "scrolled": true
   },
   "outputs": [],
   "source": []
  },
  {
   "cell_type": "code",
   "execution_count": null,
   "metadata": {},
   "outputs": [],
   "source": []
  },
  {
   "cell_type": "code",
   "execution_count": null,
   "metadata": {},
   "outputs": [],
   "source": []
  }
 ],
 "metadata": {
  "kernelspec": {
   "display_name": "Python 3",
   "language": "python",
   "name": "python3"
  },
  "language_info": {
   "codemirror_mode": {
    "name": "ipython",
    "version": 3
   },
   "file_extension": ".py",
   "mimetype": "text/x-python",
   "name": "python",
   "nbconvert_exporter": "python",
   "pygments_lexer": "ipython3",
   "version": "3.7.6"
  }
 },
 "nbformat": 4,
 "nbformat_minor": 4
}
