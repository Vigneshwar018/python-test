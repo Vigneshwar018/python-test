{
 "cells": [
  {
   "cell_type": "markdown",
   "metadata": {},
   "source": [
    "## importing CSV"
   ]
  },
  {
   "cell_type": "code",
   "execution_count": 1,
   "metadata": {},
   "outputs": [],
   "source": [
    "import numpy as np\n",
    "import pandas as pd\n",
    "import matplotlib.pyplot as plt"
   ]
  },
  {
   "cell_type": "code",
   "execution_count": 2,
   "metadata": {},
   "outputs": [],
   "source": [
    "fl1 = pd.read_csv('gdp_pc.csv')\n",
    "fl2 = pd.read_csv('mlb_salaries_2014.csv')\n",
    "fl3 = pd.read_csv('disease_democ.csv')"
   ]
  },
  {
   "cell_type": "code",
   "execution_count": 10,
   "metadata": {},
   "outputs": [
    {
     "data": {
      "text/plain": [
       "Index(['playerID', 'nameFirst', 'nameLast', 'nameFull', 'teamID', 'teamName',\n",
       "       'salary', 'salary_mil'],\n",
       "      dtype='object')"
      ]
     },
     "execution_count": 10,
     "metadata": {},
     "output_type": "execute_result"
    }
   ],
   "source": [
    "fl2.columns"
   ]
  },
  {
   "cell_type": "code",
   "execution_count": 4,
   "metadata": {},
   "outputs": [
    {
     "data": {
      "text/plain": [
       "21589994.28"
      ]
     },
     "execution_count": 4,
     "metadata": {},
     "output_type": "execute_result"
    }
   ],
   "source": [
    "from matplotlib import pyplot as plt\n",
    "\n",
    "\n",
    "fl2_team = fl2.groupby('teamName').sum()\n",
    "# fl2_team.loc['teamName']\n",
    "\n",
    "# a = fl2_team.loc[fl2_team['salary_mil'] > 100,'salary_mil']\n",
    "# a\n",
    "\n",
    "team = [team for team, df in fl2_team.groupby('teamName')]\n",
    "\n",
    "\n",
    "# plt.barh( team, fl2_team['salary'], linewidth = 5)\n",
    "\n",
    "# plt.title('summa time pass')\n",
    "# plt.yticks( fontsize = 10, linespacing = 2)\n",
    "# plt.xlabel('Team')\n",
    "# plt.ylabel('Salary')\n",
    "# plt.grid(True)\n",
    "# # plt.legend()\n",
    "# plt.show()\n",
    "\n",
    "\n",
    "fl2_hiSal = fl2.sort_values(['salary', 'teamID'], ascending=False)\n",
    "fl2_hiSal = fl2_hiSal.head(25)\n",
    "\n",
    "fl2_hiSal['salary'].mean()"
   ]
  },
  {
   "cell_type": "code",
   "execution_count": null,
   "metadata": {},
   "outputs": [],
   "source": []
  },
  {
   "cell_type": "code",
   "execution_count": null,
   "metadata": {
    "scrolled": true
   },
   "outputs": [],
   "source": []
  },
  {
   "cell_type": "code",
   "execution_count": null,
   "metadata": {},
   "outputs": [],
   "source": []
  },
  {
   "cell_type": "code",
   "execution_count": null,
   "metadata": {},
   "outputs": [],
   "source": []
  }
 ],
 "metadata": {
  "kernelspec": {
   "display_name": "Python 3",
   "language": "python",
   "name": "python3"
  },
  "language_info": {
   "codemirror_mode": {
    "name": "ipython",
    "version": 3
   },
   "file_extension": ".py",
   "mimetype": "text/x-python",
   "name": "python",
   "nbconvert_exporter": "python",
   "pygments_lexer": "ipython3",
   "version": "3.7.2"
  }
 },
 "nbformat": 4,
 "nbformat_minor": 4
}
