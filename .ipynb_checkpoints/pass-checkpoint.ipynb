{
 "cells": [
  {
   "cell_type": "code",
   "execution_count": 3,
   "metadata": {},
   "outputs": [],
   "source": [
    "import numpy as np\n",
    "import pandas as pd"
   ]
  },
  {
   "cell_type": "code",
   "execution_count": 32,
   "metadata": {},
   "outputs": [],
   "source": [
    "fl1 = pd.read_csv('passwords.csv')\n",
    "\n",
    "revF = fl1.loc[:,'name'].apply(lambda x: x[::-1])\n",
    "\n",
    "revF = revF.apply(lambda x: x.split('.')[1])\n",
    "\n",
    "revF = revF.apply(lambda x: x[::-1])\n",
    "\n",
    "fl1['site'] = revF\n",
    "\n",
    "fl1 = fl1.reindex(columns=[ 'site', 'username', 'password', 'url', 'name'])\n",
    "\n",
    "fl1.to_csv('out_pass.csv', index=False)"
   ]
  },
  {
   "cell_type": "code",
   "execution_count": null,
   "metadata": {},
   "outputs": [],
   "source": []
  }
 ],
 "metadata": {
  "kernelspec": {
   "display_name": "Python 3",
   "language": "python",
   "name": "python3"
  },
  "language_info": {
   "codemirror_mode": {
    "name": "ipython",
    "version": 3
   },
   "file_extension": ".py",
   "mimetype": "text/x-python",
   "name": "python",
   "nbconvert_exporter": "python",
   "pygments_lexer": "ipython3",
   "version": "3.7.6"
  }
 },
 "nbformat": 4,
 "nbformat_minor": 4
}
